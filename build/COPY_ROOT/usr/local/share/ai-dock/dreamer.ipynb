{
 "cells": [
  {
   "cell_type": "code",
   "execution_count": null,
   "id": "9f9fd726-736c-40f9-b4b3-d4439c6fe94f",
   "metadata": {},
   "outputs": [],
   "source": [
    "# Stop the dreamer service\n",
    "\n",
    "!supervisorctl stop dreamer:*"
   ]
  },
  {
   "cell_type": "code",
   "execution_count": null,
   "id": "715b36cb-ae96-4887-acb9-fd393fa1c2d8",
   "metadata": {},
   "outputs": [],
   "source": [
    "# Start the dreamer service\n",
    "\n",
    "!supervisorctl start dreamer:*"
   ]
  },
  {
   "cell_type": "code",
   "execution_count": null,
   "id": "df0afee2-8e20-4206-bccf-fecac674f481",
   "metadata": {},
   "outputs": [],
   "source": [
    "# View the live logs\n",
    "\n",
    "!logtail.sh"
   ]
  },
  {
   "cell_type": "code",
   "execution_count": null,
   "id": "9950e252-a1ad-4f7e-baef-0703b1cd3bd6",
   "metadata": {},
   "outputs": [],
   "source": [
    "# Get secure web UI link\n",
    "\n",
    "!grep -b0 -a0 'trycloudflare.com' /var/log/supervisor/quicktunnel-horde-webui.log"
   ]
  },
  {
   "cell_type": "code",
   "execution_count": null,
   "id": "08cbd5a5-0d3f-44d0-a952-cc0d0dd35a2a",
   "metadata": {},
   "outputs": [],
   "source": []
  }
 ],
 "metadata": {
  "kernelspec": {
   "display_name": "Horde",
   "language": "python",
   "name": "horde"
  },
  "language_info": {
   "codemirror_mode": {
    "name": "ipython",
    "version": 3
   },
   "file_extension": ".py",
   "mimetype": "text/x-python",
   "name": "python",
   "nbconvert_exporter": "python",
   "pygments_lexer": "ipython3",
   "version": "3.10.12"
  }
 },
 "nbformat": 4,
 "nbformat_minor": 5
}
